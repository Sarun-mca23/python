{
  "cells": [
    {
      "cell_type": "markdown",
      "metadata": {
        "id": "view-in-github",
        "colab_type": "text"
      },
      "source": [
        "<a href=\"https://colab.research.google.com/github/Sarun-mca23/python/blob/main/Welcome_To_Colab.ipynb\" target=\"_parent\"><img src=\"https://colab.research.google.com/assets/colab-badge.svg\" alt=\"Open In Colab\"/></a>"
      ]
    },
    {
      "cell_type": "code",
      "source": [
        "print('Hello world')"
      ],
      "metadata": {
        "colab": {
          "base_uri": "https://localhost:8080/"
        },
        "id": "xsSKdl6NhiPy",
        "outputId": "bf6fbfe1-c9b4-408b-d229-ce2296a3e272"
      },
      "execution_count": 1,
      "outputs": [
        {
          "output_type": "stream",
          "name": "stdout",
          "text": [
            "Hello world\n"
          ]
        }
      ]
    },
    {
      "cell_type": "code",
      "source": [
        "list1 = [10, 20, 4, 45, 99]\n",
        "list1.sort()\n",
        "print(\"Smallest element is:\", list1)"
      ],
      "metadata": {
        "colab": {
          "base_uri": "https://localhost:8080/"
        },
        "id": "Dtr6g7SBiCbc",
        "outputId": "a36daf14-74f9-49dd-9c88-cc1d5978a72c"
      },
      "execution_count": 4,
      "outputs": [
        {
          "output_type": "stream",
          "name": "stdout",
          "text": [
            "Smallest element is: [4, 10, 20, 45, 99]\n"
          ]
        }
      ]
    },
    {
      "cell_type": "code",
      "source": [
        "order = {\n",
        "    'A': 1, '2': 2, '3': 3, '4': 4,\n",
        "    '5': 5, '6': 6, '7': 7, '8': 8,\n",
        "    '9': 9, '10': 10,\n",
        "    'J': 11, 'Q': 12, 'K': 13\n",
        "}\n",
        "\n",
        "\n",
        "def insertCard(deck, newCard):\n",
        "    for card in deck:\n",
        "        if order[card] > order[newCard]:\n",
        "            index = deck.index(card)\n",
        "            deck.insert(index, newCard)\n",
        "            break\n",
        "    return deck\n",
        "\n",
        "\n",
        "deck = ['2', '5', '8', '10', 'J', 'K']  # initial set of cards\n",
        "print(\"deck = \", deck)\n",
        "newCard = input(\"Enter the new card to be inserted:\")  # get the new card\n",
        "insertCard(deck, newCard)\n",
        "print(deck)"
      ],
      "metadata": {
        "colab": {
          "base_uri": "https://localhost:8080/"
        },
        "id": "0QvHFCy5knSK",
        "outputId": "a8f3c566-a954-4311-9d40-8803c8dbd36f"
      },
      "execution_count": 5,
      "outputs": [
        {
          "output_type": "stream",
          "name": "stdout",
          "text": [
            "deck =  ['2', '5', '8', '10', 'J', 'K']\n",
            "Enter the new card to be inserted:5\n",
            "['2', '5', '5', '8', '10', 'J', 'K']\n"
          ]
        }
      ]
    },
    {
      "cell_type": "code",
      "source": [],
      "metadata": {
        "id": "0cS_n8jFlbn6"
      },
      "execution_count": null,
      "outputs": []
    }
  ],
  "metadata": {
    "colab": {
      "name": "Welcome To Colab",
      "toc_visible": true,
      "provenance": [],
      "include_colab_link": true
    },
    "kernelspec": {
      "display_name": "Python 3",
      "name": "python3"
    }
  },
  "nbformat": 4,
  "nbformat_minor": 0
}